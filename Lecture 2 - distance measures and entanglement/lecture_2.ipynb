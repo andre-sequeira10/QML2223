{
 "cells": [
  {
   "attachments": {},
   "cell_type": "markdown",
   "metadata": {},
   "source": [
    "##### Quantum Data Science 2022/2023\n",
    "### Lecture 2 - Distance between quantum states and entanglement"
   ]
  },
  {
   "attachments": {},
   "cell_type": "markdown",
   "metadata": {},
   "source": [
    "<!-- no toc -->\n",
    "### Contents \n",
    "\n",
    "1. [Important functions and libraries](#important)\n",
    "2. [SWAP Test](#swaptest)\n",
    "4. [EXERCISE 1 - Inversion test](#inversiontest)\n",
    "5. [EXERCISE 2 - Hadamard test](#hadamardtest)\n",
    "5. [EXERCISE 3 - Trace distance](#tracedistance)\n",
    "6. [EXERCISE 4 - Meyer-Wallach measure](#meyerwallach)"
   ]
  },
  {
   "attachments": {},
   "cell_type": "markdown",
   "metadata": {},
   "source": [
    "#### 1. Libraries and functions <a id=\"important\"></a>"
   ]
  },
  {
   "cell_type": "code",
   "execution_count": 1,
   "metadata": {},
   "outputs": [],
   "source": [
    "from qiskit import QuantumCircuit, ClassicalRegister, QuantumRegister, Aer, execute\n",
    "import matplotlib.pyplot as plt\n",
    "import numpy as np"
   ]
  },
  {
   "cell_type": "markdown",
   "metadata": {},
   "source": [
    "##### Function for executing a quantum circuit "
   ]
  },
  {
   "cell_type": "code",
   "execution_count": 2,
   "metadata": {},
   "outputs": [],
   "source": [
    "def execute_circuit(qc, shots=1024, device=\"qasm\", decimal=False, reversed=False):\n",
    "    \n",
    "    #define backend\n",
    "    if device == \"qasm\":\n",
    "        device = Aer.get_backend('qasm_simulator')\n",
    "        #get counts\n",
    "        counts = execute(qc, device, shots=shots).result().get_counts()\n",
    "        \n",
    "        if decimal:\n",
    "            if reversed:\n",
    "                counts = dict((int(a[::-1],2),b) for (a,b) in counts.items())\n",
    "            else:\n",
    "                counts = dict((int(a,2),b) for (a,b) in counts.items())\n",
    "        else:\n",
    "            if reversed:\n",
    "                counts = dict((a[::-1],b) for (a,b) in counts.items())\n",
    "            else:\n",
    "                counts = dict((a,b) for (a,b) in counts.items())\n",
    "\n",
    "        return counts\n",
    "    \n",
    "    elif device==\"statevector\":\n",
    "        device = Aer.get_backend('statevector_simulator')\n",
    "        state_vector = execute(qc, device).result().get_statevector()\n",
    "\n",
    "        return state_vector\n",
    "    "
   ]
  },
  {
   "attachments": {},
   "cell_type": "markdown",
   "metadata": {},
   "source": [
    "##### Function for obtaining basis state probabilities"
   ]
  },
  {
   "cell_type": "code",
   "execution_count": 3,
   "metadata": {},
   "outputs": [],
   "source": [
    "def basis_states_probs(counts, shots=1024, n_qubits=1):\n",
    "   probs = []\n",
    "   basis_states = [np.binary_repr(i,width=n_qubits) for i in range(2**n_qubits)]\n",
    "\n",
    "   for b in basis_states:\n",
    "      c = counts.get(b)\n",
    "      if c is None:\n",
    "         probs.append(0)\n",
    "      else:\n",
    "         probs.append(counts[b]/shots)\n",
    "\n",
    "\n",
    "   return probs"
   ]
  },
  {
   "attachments": {},
   "cell_type": "markdown",
   "metadata": {},
   "source": [
    "#### 2. SWAP Test <a id=\"swaptest\"></a>\n",
    "\n",
    "<p align=\"center\">\n",
    "  <img width=\"500\" height=\"250\" src=\"images/swaptestt.png\">\n",
    "</p>\n",
    "\n",
    "The swap test can be used to estimate the overlap between arbitrary pure states $|\\psi\\rangle$ and $|\\phi\\rangle$. The probability of measuring the ancilla in state $|0\\rangle$ is given by: \n",
    "$$ P(0) = \\frac{1}{2} + \\frac{1}{2} |\\langle \\psi | \\phi \\rangle |^2$$ \n",
    "\n",
    "Thus, the overlap (or fidelity) between the states is given by: \n",
    "\n",
    "$$|\\langle \\psi | \\phi \\rangle |^2 = 2P(0) - 1$$\n"
   ]
  },
  {
   "cell_type": "code",
   "execution_count": 6,
   "metadata": {},
   "outputs": [
    {
     "name": "stdout",
     "output_type": "stream",
     "text": [
      "Overlap |<a|b>|^2 - 0.064453125\n"
     ]
    }
   ],
   "source": [
    "### POSSIBLE IMPLEMENTATION OF SWAP TEST ###\n",
    "\n",
    "def swap_test(qc, ancilla, psi, phi, cr, n_qubits=1):\n",
    "\n",
    "    overlap = 0 \n",
    "    \n",
    "    qc.h(ancilla)\n",
    "\n",
    "    for qubit in range(n_qubits):\n",
    "        qc.cswap(ancilla, psi[qubit], phi[qubit])\n",
    "    qc.h(ancilla)\n",
    "\n",
    "    qc.measure(ancilla, cr)\n",
    "\n",
    "    counts = execute_circuit(qc,shots=1024, device=None)\n",
    "    probs = basis_states_probs(counts, shots=1024, n_qubits=1)\n",
    "    p0 = probs[0]\n",
    "\n",
    "    overlap += 2*p0 - 1\n",
    "    return overlap"
   ]
  },
  {
   "attachments": {},
   "cell_type": "markdown",
   "metadata": {},
   "source": [
    "### <span style=\"color: red;\">EXERCISE 1</span> - Inversion test <a id=\"inversiontest\"></a>"
   ]
  },
  {
   "attachments": {},
   "cell_type": "markdown",
   "metadata": {},
   "source": [
    "<p align=\"center\">\n",
    "  <img width=\"450\" height=\"200\" src=\"images/inversion_test.png\"> \n",
    "</p>"
   ]
  },
  {
   "attachments": {},
   "cell_type": "markdown",
   "metadata": {},
   "source": [
    "The inversion test can also be used to estimate the overlap between two pure quantum states with $n$ qubits by preparing the unitary $U_{\\psi}$ and the transpose conjugated unitary $U_{\\phi}^{\\dagger}$ in the same set of $n$ qubits. The overlap is the probability of measuring the all-zero state. \n",
    "\n",
    "Prove analytically that the overlap is given by the probability of the all-zero state. \n",
    "\n",
    "Implement the inversion test for arbitrary n qubit states."
   ]
  },
  {
   "cell_type": "code",
   "execution_count": 9,
   "metadata": {},
   "outputs": [],
   "source": [
    "def inversion_test(psi, phi, shots=1024):\n",
    "    overlap = 0\n",
    "\n",
    "    ### YOUR CODE HERE ###\n",
    "    \n",
    "    return overlap"
   ]
  },
  {
   "attachments": {},
   "cell_type": "markdown",
   "metadata": {},
   "source": [
    "Compute the overlap between the states $|GHZ\\rangle = \\frac{1}{\\sqrt{2}}\\biggl( |00000\\rangle + |11111\\rangle \\biggr)$ and states $|k_i\\rangle = \\frac{1}{\\sqrt{2}}\\biggl( |00000\\rangle + |1_{i}\\rangle \\otimes {|0_{\\bar{i}}\\rangle} \\biggr)$ , $\\forall i \\in \\{[0],[0,1],[0,1,2],\\dots,[0,1, \\dots , N-1]\\}$ and plot the overlaps"
   ]
  },
  {
   "cell_type": "code",
   "execution_count": null,
   "metadata": {},
   "outputs": [],
   "source": [
    "### YOUR CODE HERE ###\n"
   ]
  },
  {
   "attachments": {},
   "cell_type": "markdown",
   "metadata": {},
   "source": [
    "### <span style=\"color: red;\">EXERCISE 2</span> - Hadamard test <a id=\"hadamardtest\"></a>"
   ]
  },
  {
   "attachments": {},
   "cell_type": "markdown",
   "metadata": {},
   "source": [
    "<p align=\"center\">\n",
    "  <img width=\"800\" height=\"250\" src=\"images/hadamardtest.png\"> \n",
    "</p>"
   ]
  },
  {
   "attachments": {},
   "cell_type": "markdown",
   "metadata": {},
   "source": [
    "The Hadamard test can be used to estimate the real part of the inner product between states $|\\psi\\rangle$ and $|\\phi\\rangle$. We use the standard swap test but prepare the states conditionally on the state of the ancilla. Measuring the probability of the ancilla being in the state 0, reveals the real part of the inner product. If we prepare the ancilla in the state $|K\\rangle = \\frac{1}{\\sqrt{2}} (|0\\rangle - i|1\\rangle)$ and apply the same process, we get the imaginary part of the inner product.\n",
    "\n",
    "Implement the hadamard test. "
   ]
  },
  {
   "attachments": {},
   "cell_type": "markdown",
   "metadata": {},
   "source": [
    "we can turn any quantum circuit psi = QuantumCircuit() to a controlled gate\n",
    "\n",
    "```python\n",
    "psi = QuantumCircuit()\n",
    "psi = psi.to_gate().control(1,ctrl_state='0')\n",
    "```\n",
    "where we have 1 control bit in the state 0\n",
    "\n",
    "\n"
   ]
  },
  {
   "cell_type": "code",
   "execution_count": 78,
   "metadata": {},
   "outputs": [],
   "source": [
    "def hadamard_test(psi, phi, imaginary=False):\n",
    "\n",
    "    ### YOUR CODE HERE ###\n",
    "    \n",
    "    pass\n",
    "\n"
   ]
  },
  {
   "attachments": {},
   "cell_type": "markdown",
   "metadata": {},
   "source": [
    "Test the hadamard test for the GHZ states as in the exercise 4"
   ]
  },
  {
   "cell_type": "code",
   "execution_count": null,
   "metadata": {},
   "outputs": [],
   "source": [
    "### YOUR CODE HERE ###"
   ]
  },
  {
   "attachments": {},
   "cell_type": "markdown",
   "metadata": {},
   "source": [
    "### <span style=\"color: red;\">EXERCISE 3</span> - Trace distance <a id=\"tracedistance\"></a>\n",
    "\n",
    "The fidelity between quantum states $|\\langle \\psi | \\phi \\rangle|^2$ only works for the case when both states are pure states. When we have generalized mixed states we need other distance measures. One such measure is the trace distance: \n",
    "\n",
    "$$T(\\rho, \\sigma) = \\frac{1}{2} Tr| \\rho - \\sigma | = \\frac{1}{2} \\sum_{i}| \\lambda_i |$$\n",
    "\n",
    "where $\\rho$ and $\\sigma$ are the density matrices associated with the quantum states and $|\\lambda_i|$ is the absolute value of the eigenvalue $i$.\n",
    "\n"
   ]
  },
  {
   "cell_type": "code",
   "execution_count": 7,
   "metadata": {},
   "outputs": [],
   "source": [
    "from qiskit.quantum_info import DensityMatrix\n",
    "#DensityMatrix(state_vector)"
   ]
  },
  {
   "cell_type": "code",
   "execution_count": null,
   "metadata": {},
   "outputs": [],
   "source": [
    "def trace_distance(psi, phi):\n",
    "\n",
    "    ### YOUR CODE HERE ###\n",
    "    \n",
    "    pass"
   ]
  },
  {
   "attachments": {},
   "cell_type": "markdown",
   "metadata": {},
   "source": [
    "Test for arbitrary quantum states "
   ]
  },
  {
   "cell_type": "code",
   "execution_count": 1,
   "metadata": {},
   "outputs": [],
   "source": [
    "### YOUR CODE HERE ###"
   ]
  },
  {
   "attachments": {},
   "cell_type": "markdown",
   "metadata": {},
   "source": [
    "### <span style=\"color: red;\">EXERCISE 4</span> - Meyer-Wallach measure <a id=\"meyerwallach\"></a>"
   ]
  },
  {
   "attachments": {},
   "cell_type": "markdown",
   "metadata": {},
   "source": [
    "The Meyer-wallach measure is a technique developed for quantifying the entangling capability of an arbitrary quantum circuit. It can be obtained as:\n",
    "\n",
    "$$ Q = 2 - \\frac{2}{n} \\sum_{k=0}^{n-1} Tr(\\rho_k^2) $$ \n",
    "\n",
    "where $\\rho_k$ is the state of the $k^\\text{th}$ qubit after tracing out the rest of the system. "
   ]
  },
  {
   "cell_type": "code",
   "execution_count": 11,
   "metadata": {},
   "outputs": [],
   "source": [
    "from qiskit.quantum_info import partial_trace\n",
    "#partial_trace(state_vector, list_of_qubits_to_be_traced)"
   ]
  },
  {
   "cell_type": "code",
   "execution_count": null,
   "metadata": {},
   "outputs": [],
   "source": [
    "def meyer_wallach(qc, n_qubits):\n",
    "\n",
    "    ### YOUR CODE HERE ###\n",
    "    \n",
    "    pass"
   ]
  },
  {
   "attachments": {},
   "cell_type": "markdown",
   "metadata": {},
   "source": [
    "Test for arbitrary quantum states "
   ]
  },
  {
   "cell_type": "code",
   "execution_count": 2,
   "metadata": {},
   "outputs": [],
   "source": [
    "### YOUR CODE HERE ###"
   ]
  }
 ],
 "metadata": {
  "interpreter": {
   "hash": "62314c999a2395b70c6666201aadb026cfae52075e045b8f587202e06e575832"
  },
  "kernelspec": {
   "display_name": "Python 3.10.1 64-bit ('quantum_DS': conda)",
   "language": "python",
   "name": "python3"
  },
  "language_info": {
   "codemirror_mode": {
    "name": "ipython",
    "version": 3
   },
   "file_extension": ".py",
   "mimetype": "text/x-python",
   "name": "python",
   "nbconvert_exporter": "python",
   "pygments_lexer": "ipython3",
   "version": "3.10.4"
  },
  "orig_nbformat": 4
 },
 "nbformat": 4,
 "nbformat_minor": 2
}
