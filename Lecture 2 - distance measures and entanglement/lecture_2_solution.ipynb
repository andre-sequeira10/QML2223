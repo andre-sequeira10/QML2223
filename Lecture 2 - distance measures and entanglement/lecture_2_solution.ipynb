{
 "cells": [
  {
   "cell_type": "markdown",
   "metadata": {},
   "source": [
    "##### Quantum Data Science 2022/2023\n",
    "### Lecture 2 - Distance between quantum states and entanglement"
   ]
  },
  {
   "attachments": {},
   "cell_type": "markdown",
   "metadata": {},
   "source": [
    "<!-- no toc -->\n",
    "### Contents \n",
    "\n",
    "1. [Important functions and libraries](#important)\n",
    "2. [SWAP Test](#swaptest)\n",
    "3. [EXERCISE 1 - Inversion test](#inversiontest)\n",
    "4. [EXERCISE 2 - Hadamard test](#hadamardtest)\n",
    "5. [EXERCISE 3 - Trace distance](#tracedistance)\n",
    "6. [EXERCISE 4 - Meyer-Wallach measure](#meyerwallach)"
   ]
  },
  {
   "attachments": {},
   "cell_type": "markdown",
   "metadata": {},
   "source": [
    "#### 1. Libraries and functions <a id=\"important\"></a>"
   ]
  },
  {
   "cell_type": "code",
   "execution_count": 2,
   "metadata": {},
   "outputs": [],
   "source": [
    "from qiskit import QuantumCircuit, ClassicalRegister, QuantumRegister, Aer, execute, transpile\n",
    "import matplotlib.pyplot as plt\n",
    "%matplotlib inline\n",
    "import numpy as np"
   ]
  },
  {
   "cell_type": "markdown",
   "metadata": {},
   "source": [
    "##### Function for executing a quantum circuit "
   ]
  },
  {
   "cell_type": "code",
   "execution_count": 3,
   "metadata": {},
   "outputs": [],
   "source": [
    "def execute_circuit(qc, shots=1024, decimal=False, reversed=False):\n",
    "    \n",
    "    #define backend\n",
    "    device = Aer.get_backend('qasm_simulator')\n",
    "    #get counts\n",
    "    counts = execute(qc, device, shots=shots).result().get_counts()\n",
    "    \n",
    "    if decimal:\n",
    "        if reversed:\n",
    "            counts = dict((int(a[::-1],2),b) for (a,b) in counts.items())\n",
    "        else:\n",
    "            counts = dict((int(a,2),b) for (a,b) in counts.items())\n",
    "    else:\n",
    "        if reversed:\n",
    "            counts = dict((a[::-1],b) for (a,b) in counts.items())\n",
    "        else:\n",
    "            counts = dict((a,b) for (a,b) in counts.items())\n",
    "\n",
    "    return counts"
   ]
  },
  {
   "attachments": {},
   "cell_type": "markdown",
   "metadata": {},
   "source": [
    "##### Function for obtaining basis state probabilities"
   ]
  },
  {
   "cell_type": "code",
   "execution_count": 3,
   "metadata": {},
   "outputs": [],
   "source": [
    "### POSSIBLE SOLUTION ###\n",
    " \n",
    "def basis_states_probs(counts, shots=1024, n_qubits=1):\n",
    "   probs = []\n",
    "   basis_states = [np.binary_repr(i,width=n_qubits) for i in range(2**n_qubits)]\n",
    "\n",
    "   for b in basis_states:\n",
    "      c = counts.get(b)\n",
    "      if c is None:\n",
    "         probs.append(0)\n",
    "      else:\n",
    "         probs.append(counts[b]/shots)\n",
    "\n",
    "\n",
    "   return probs"
   ]
  },
  {
   "attachments": {},
   "cell_type": "markdown",
   "metadata": {},
   "source": [
    "#### SWAP Test <a id=\"swaptest\"></a>\n",
    "\n",
    "<p align=\"center\">\n",
    "  <img width=\"500\" height=\"250\" src=\"images/swaptestt.png\">\n",
    "</p>\n",
    "\n",
    "The swap test can be used to estimate the overlap between arbitrary pure states $|\\psi\\rangle$ and $|\\phi\\rangle$. The probability of measuring the ancilla in state $|0\\rangle$ is given by: \n",
    "$$ P(0) = \\frac{1}{2} + \\frac{1}{2} |\\langle \\psi | \\phi \\rangle |^2$$ \n",
    "\n",
    "Thus, the overlap between the states is given by: \n",
    "\n",
    "$$|\\langle \\psi | \\phi \\rangle |^2 = 2P(0) - 1$$"
   ]
  },
  {
   "cell_type": "code",
   "execution_count": null,
   "metadata": {},
   "outputs": [],
   "source": [
    "### POSSIBLE IMPLEMENTATION OF SWAP TEST ###\n",
    "\n",
    "def swap_test(qc, ancilla, psi, phi, cr, n_qubits=1):\n",
    "\n",
    "    overlap = 0 \n",
    "    \n",
    "    qc.h(ancilla)\n",
    "\n",
    "    for qubit in range(n_qubits):\n",
    "        qc.cswap(ancilla, psi[qubit], phi[qubit])\n",
    "    qc.h(ancilla)\n",
    "\n",
    "    qc.measure(ancilla, cr)\n",
    "\n",
    "    counts = execute_circuit(qc,shots=1024, device=None)\n",
    "    probs = basis_states_probs(counts, shots=1024, n_qubits=1)\n",
    "    p0 = probs[0]\n",
    "\n",
    "    overlap += 2*p0 - 1\n",
    "    return overlap"
   ]
  },
  {
   "attachments": {},
   "cell_type": "markdown",
   "metadata": {},
   "source": [
    "### <span style=\"color: red;\">EXERCISE 1</span> - Inversion test <a id=\"inversiontest\"></a>"
   ]
  },
  {
   "cell_type": "markdown",
   "metadata": {},
   "source": [
    "The inversion test can also be used to estimate the overlap between two pure quantum states with $n$ qubits by preparing the unitary $U_{\\psi}$ and the transpose conjugated unitary $U_{\\phi}^{\\dagger}$ in the same set of $n$ qubits. The overlap is the probability of measuring the all-zero state. \n",
    "\n",
    "Prove analytically that the overlap is given by the probability of the all-zero state. \n",
    "\n",
    "Implement the inversion test for arbitrary n qubit states."
   ]
  },
  {
   "cell_type": "code",
   "execution_count": 1,
   "metadata": {},
   "outputs": [],
   "source": [
    "def inversion_test(psi, phi, shots=1024):\n",
    "    overlap = 0\n",
    "    \n",
    "    n_qubits = psi.num_qubits\n",
    "\n",
    "    qr=QuantumRegister(n_qubits)\n",
    "    qc = QuantumCircuit(qr)\n",
    "\n",
    "    qc = qc.compose(psi,qr)\n",
    "    qc = qc.compose(phi.inverse(),qr)\n",
    "    qc.measure_all()\n",
    "\n",
    "    counts = execute_circuit(qc, shots=1024, reversed=True)\n",
    "\n",
    "    overlap = basis_states_probs(counts, n_qubits=n_qubits)[0]\n",
    "\n",
    "    return overlap"
   ]
  },
  {
   "attachments": {},
   "cell_type": "markdown",
   "metadata": {},
   "source": [
    "Compute the overlap between the states $|GHZ\\rangle = \\frac{1}{\\sqrt{2}}\\biggl( |00000\\rangle + |11111\\rangle \\biggr)$ and states $|k_i\\rangle = \\frac{1}{\\sqrt{2}}\\biggl( |00000\\rangle + |1_{i}\\rangle \\otimes {|0_{\\bar{i}}\\rangle} \\biggr)$ , $\\forall i \\in \\{[0],[0,1],[0,1,2],\\dots,[0,1, \\dots , N-1]\\}$ and plot the overlaps"
   ]
  },
  {
   "cell_type": "code",
   "execution_count": null,
   "metadata": {},
   "outputs": [
    {
     "data": {
      "text/plain": [
       "Text(0.5, 0, 'CNOTS')"
      ]
     },
     "metadata": {},
     "output_type": "display_data"
    },
    {
     "data": {
      "image/png": "[encoded data removed]",
      "text/plain": [
       "<Figure size 432x288 with 1 Axes>"
      ]
     },
     "metadata": {},
     "output_type": "display_data"
    }
   ],
   "source": [
    "psi = QuantumCircuit(5)\n",
    "psi.h(0)\n",
    "for i in range(4):\n",
    "    psi.cx(i,i+1)\n",
    "\n",
    "\n",
    "overlaps = []\n",
    "\n",
    "for i in range(1,5):\n",
    "    phi = QuantumCircuit(5)\n",
    "    phi.h(0)\n",
    "    for j in range(i):\n",
    "        phi.cx(j,j+1)\n",
    "    \n",
    "    overlaps.append(inversion_test(psi,phi))\n",
    "\n",
    "plt.plot(list(range(1,5)),overlaps)\n",
    "plt.ylabel(\"Overlap\")\n",
    "plt.xlabel(\"CNOTS\")\n"
   ]
  },
  {
   "attachments": {},
   "cell_type": "markdown",
   "metadata": {},
   "source": [
    "### <span style=\"color: red;\">EXERCISE 2</span> - Hadamard test <a id=\"hadamardtest\"></a>"
   ]
  },
  {
   "cell_type": "markdown",
   "metadata": {},
   "source": [
    "The Hadamard test can be used to estimate the real part of the inner product between states $|\\psi\\rangle$ and $|\\phi\\rangle$. We use the standard swap test but prepare the states conditionally on the state of the ancilla. Measuring the probability of the ancilla being in the state 0, reveals the real part of the inner product. If we prepare the ancilla in the state $|K\\rangle = \\frac{1}{\\sqrt{2}} (|0\\rangle - i|1\\rangle)$ and apply the same process, we get the imaginary part of the inner product.\n",
    "\n",
    "Implement the hadamard test. "
   ]
  },
  {
   "cell_type": "code",
   "execution_count": null,
   "metadata": {},
   "outputs": [],
   "source": [
    "def hadamard_test(psi, phi, imaginary=False):\n",
    "\n",
    "    n_qubits = psi.num_qubits\n",
    "    ancilla = QuantumRegister(1)\n",
    "    qr = QuantumRegister(n_qubits)\n",
    "    cr=ClassicalRegister(1)\n",
    "    qc = QuantumCircuit(ancilla,qr,cr)\n",
    "\n",
    "    qc.h(0)\n",
    "    if imaginary:\n",
    "        qc.p(-np.pi/2,ancilla)# == qc.s(ancilla).inverse()\n",
    "\n",
    "    psi = psi.to_gate().control(1,ctrl_state='0')\n",
    "    phi = phi.to_gate().control(1,ctrl_state='1')\n",
    "\n",
    "    qc = qc.compose(psi,[ancilla]+[i for i in qr])\n",
    "    qc = qc.compose(phi,[ancilla]+[i for i in qr])\n",
    "\n",
    "    qc.h(0)\n",
    "\n",
    "    qc.measure(ancilla,cr)\n",
    "\n",
    "    counts = execute_circuit(qc)\n",
    "\n",
    "    probs0 = basis_states_probs(counts)[0]\n",
    "\n",
    "    return probs0\n",
    "\n"
   ]
  },
  {
   "cell_type": "markdown",
   "metadata": {},
   "source": [
    "Test the hadamard test for the GHZ states as in the exercise 4"
   ]
  },
  {
   "cell_type": "code",
   "execution_count": null,
   "metadata": {},
   "outputs": [
    {
     "name": "stdout",
     "output_type": "stream",
     "text": [
      "0.02734375\n"
     ]
    }
   ],
   "source": [
    "psi = QuantumCircuit(5)\n",
    "psi.h(0)\n",
    "for i in range(4):\n",
    "    psi.cx(i,i+1)\n",
    "\n",
    "phi = QuantumCircuit(5)\n",
    "phi.h(0)\n",
    "phi.cx(0,1)\n",
    "\n",
    "overlap = hadamard_test(psi, phi, imaginary=True)\n",
    "print(overlap)"
   ]
  },
  {
   "attachments": {},
   "cell_type": "markdown",
   "metadata": {},
   "source": [
    "### <span style=\"color: red;\">EXERCISE 3</span> - Trace distance <a id=\"tracedistance\"></a>\n",
    "\n",
    "\n",
    "The fidelity between quantum states $|\\langle \\psi | \\phi \\rangle|^2$ only works for the case when both states are pure states. When we have generalized mixed states we need other distance measures. One such measure is the trace distance: \n",
    "\n",
    "$$T(\\rho, \\sigma) = \\frac{1}{2} Tr| \\rho - \\sigma | = \\frac{1}{2} \\sum_{i}| \\lambda_i |$$\n",
    "\n",
    "where $\\rho$ and $\\sigma$ are the density matrices associated with the quantum states and $|\\lambda_i|$ is the absolute value of the eigenvalue $i$.\n"
   ]
  },
  {
   "cell_type": "code",
   "execution_count": null,
   "metadata": {},
   "outputs": [
    {
     "name": "stdout",
     "output_type": "stream",
     "text": [
      "0.0\n"
     ]
    }
   ],
   "source": [
    "from qiskit.quantum_info import DensityMatrix\n",
    "\n",
    "qc1 = QuantumCircuit(2)\n",
    "qc1.h(0)\n",
    "qc1.cx(0,1)\n",
    "\n",
    "qc2 = QuantumCircuit(2)\n",
    "qc2.h([0,1])\n",
    "\n",
    "state_v1 = execute_circuit(qc1, device=\"statevector\")\n",
    "state_v2 = execute_circuit(qc2, device=\"statevector\")\n",
    "\n",
    "rho = DensityMatrix(state_v1)\n",
    "sigma = DensityMatrix(state_v2)\n",
    "\n",
    "trace_distance = 1/2 * np.trace(np.abs(rho-rho))\n",
    "\n",
    "print(trace_distance)\n"
   ]
  },
  {
   "attachments": {},
   "cell_type": "markdown",
   "metadata": {},
   "source": [
    "### <span style=\"color: red;\">EXERCISE 4</span> - Meyer-Wallach measure <a id=\"meyerwallach\"></a>"
   ]
  },
  {
   "attachments": {},
   "cell_type": "markdown",
   "metadata": {},
   "source": [
    "The Meyer-wallach measure is a technique developed for quantifying the entangling capability of an arbitrary quantum circuit. It can be obtained as:\n",
    "\n",
    "$$ Q = 2 - \\frac{2}{n} \\sum_{k=0}^{n-1} Tr(\\rho_k^2) $$ \n",
    "\n",
    "where $\\rho_k$ is the state of the $k^\\text{th}$ qubit after tracing out the rest of the system. "
   ]
  },
  {
   "cell_type": "code",
   "execution_count": null,
   "metadata": {},
   "outputs": [],
   "source": [
    "from qiskit.quantum_info import partial_trace"
   ]
  },
  {
   "cell_type": "code",
   "execution_count": null,
   "metadata": {},
   "outputs": [],
   "source": [
    "def meyer_wallach(qc, n_qubits):\n",
    "\n",
    "    entanglement = 0\n",
    "    qubit_list = list(range(n_qubits))\n",
    "\n",
    "    for k in range(n_qubits):\n",
    "        \n",
    "        state_vector = execute_circuit(qc, device=\"statevector\")\n",
    "        rho_k = partial_trace(state_vector, qubit_list[:k]+qubit_list[k+1:]).data\n",
    "        trace = np.trace(np.matmul(rho_k,rho_k))\n",
    "        entanglement += trace\n",
    "\n",
    "    entanglement /= n_qubits\n",
    "    \n",
    "    return 2*(1 - entanglement).real"
   ]
  },
  {
   "attachments": {},
   "cell_type": "markdown",
   "metadata": {},
   "source": [
    "#### Done ! ciao for now :)"
   ]
  },
  {
   "cell_type": "markdown",
   "metadata": {},
   "source": []
  }
 ],
 "metadata": {
  "interpreter": {
   "hash": "62314c999a2395b70c6666201aadb026cfae52075e045b8f587202e06e575832"
  },
  "kernelspec": {
   "display_name": "Python 3.10.1 64-bit ('quantum_DS': conda)",
   "language": "python",
   "name": "python3"
  },
  "language_info": {
   "codemirror_mode": {
    "name": "ipython",
    "version": 3
   },
   "file_extension": ".py",
   "mimetype": "text/x-python",
   "name": "python",
   "nbconvert_exporter": "python",
   "pygments_lexer": "ipython3",
   "version": "3.10.4"
  },
  "orig_nbformat": 4
 },
 "nbformat": 4,
 "nbformat_minor": 2
}
